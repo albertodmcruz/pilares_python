{
 "cells": [
  {
   "cell_type": "code",
   "execution_count": 1,
   "metadata": {},
   "outputs": [
    {
     "name": "stdout",
     "output_type": "stream",
     "text": [
      "Hola mundo\n"
     ]
    }
   ],
   "source": [
    "print(\"Hola mundo\")"
   ]
  },
  {
   "cell_type": "code",
   "execution_count": 6,
   "metadata": {},
   "outputs": [],
   "source": [
    "variable = 5\n",
    "variable2 = 9"
   ]
  },
  {
   "cell_type": "code",
   "execution_count": 14,
   "metadata": {},
   "outputs": [
    {
     "data": {
      "text/plain": [
       "14"
      ]
     },
     "execution_count": 14,
     "metadata": {},
     "output_type": "execute_result"
    }
   ],
   "source": [
    "resultado = variable + variable2\n",
    "resultado"
   ]
  },
  {
   "cell_type": "code",
   "execution_count": 16,
   "metadata": {},
   "outputs": [
    {
     "ename": "TypeError",
     "evalue": "can only concatenate str (not \"int\") to str",
     "output_type": "error",
     "traceback": [
      "\u001b[1;31m---------------------------------------------------------------------------\u001b[0m",
      "\u001b[1;31mTypeError\u001b[0m                                 Traceback (most recent call last)",
      "\u001b[1;32m<ipython-input-16-4dabe0ec1eb9>\u001b[0m in \u001b[0;36m<module>\u001b[1;34m\u001b[0m\n\u001b[0;32m      2\u001b[0m \u001b[0mb\u001b[0m \u001b[1;33m=\u001b[0m \u001b[1;34m\"mundo\"\u001b[0m\u001b[1;33m\u001b[0m\u001b[1;33m\u001b[0m\u001b[0m\n\u001b[0;32m      3\u001b[0m \u001b[1;31m#concatena (junta) a y b\u001b[0m\u001b[1;33m\u001b[0m\u001b[1;33m\u001b[0m\u001b[1;33m\u001b[0m\u001b[0m\n\u001b[1;32m----> 4\u001b[1;33m \u001b[0mprint\u001b[0m\u001b[1;33m(\u001b[0m\u001b[0ma\u001b[0m\u001b[1;33m+\u001b[0m\u001b[1;34m\" \"\u001b[0m\u001b[1;33m+\u001b[0m\u001b[0mb\u001b[0m\u001b[1;33m+\u001b[0m\u001b[0mresultado\u001b[0m\u001b[1;33m)\u001b[0m\u001b[1;33m\u001b[0m\u001b[1;33m\u001b[0m\u001b[0m\n\u001b[0m",
      "\u001b[1;31mTypeError\u001b[0m: can only concatenate str (not \"int\") to str"
     ]
    }
   ],
   "source": [
    "a = \"hola\"\n",
    "b = \"mundo\"\n",
    "#concatena (junta) a y b\n",
    "print(a+\" \"+b+resultado)"
   ]
  },
  {
   "cell_type": "code",
   "execution_count": 20,
   "metadata": {},
   "outputs": [
    {
     "name": "stdout",
     "output_type": "stream",
     "text": [
      "El resultado es: 14\n"
     ]
    }
   ],
   "source": [
    "#str() convierte una variable a cadena\n",
    "#int() convierte una variable a entero\n",
    "#float() Convierte una variable a flotante\n",
    "print(\"El resultado es: \"+str(resultado) )"
   ]
  },
  {
   "cell_type": "code",
   "execution_count": 1,
   "metadata": {},
   "outputs": [],
   "source": [
    "#type() te dice el tipo de dato\n",
    "x = 5\n",
    "y = 9.9\n",
    "z = \"HOla\"\n",
    "w = 0.0\n",
    "r = x+w"
   ]
  },
  {
   "cell_type": "code",
   "execution_count": 6,
   "metadata": {},
   "outputs": [
    {
     "name": "stdout",
     "output_type": "stream",
     "text": [
      "La suma es: 14.9\n",
      "La resta es: -4.9\n",
      "La multiplicación entre 5 y 9.9 es: 49.5\n"
     ]
    }
   ],
   "source": [
    "suma = x+y\n",
    "resta = x-y\n",
    "multiplicacion = x*y\n",
    "division = x/y\n",
    "potencia = x**8\n",
    "print(\"La suma es: \"+str(suma))\n",
    "print(\"La resta es: \"+str(resta))\n",
    "print(\"La multiplicación entre \"+str(x)+\" y \"+str(y)+\" es: \"+str(multiplicacion))"
   ]
  },
  {
   "cell_type": "code",
   "execution_count": 8,
   "metadata": {},
   "outputs": [
    {
     "name": "stdout",
     "output_type": "stream",
     "text": [
      "dame el valor de a: 6\n",
      "dame el valor de b: 3\n",
      "El resultado es: 63\n"
     ]
    }
   ],
   "source": [
    "a=input(\"dame el valor de a: \")\n",
    "b=input(\"dame el valor de b: \")\n",
    "resultado=a+b\n",
    "print(\"El resultado es: \"+resultado)\n",
    "# El resultado va a salir en cadena. Hay que especificar que es un str"
   ]
  },
  {
   "cell_type": "code",
   "execution_count": 10,
   "metadata": {},
   "outputs": [
    {
     "name": "stdout",
     "output_type": "stream",
     "text": [
      "dame el valor de a: 9\n",
      "dame el valor de b: 4\n",
      "El resultado es: 13\n"
     ]
    }
   ],
   "source": [
    "a=int(input(\"dame el valor de a: \"))\n",
    "b=int(input(\"dame el valor de b: \"))\n",
    "resultado=a+b\n",
    "print(\"El resultado es: \"+str(resultado))"
   ]
  },
  {
   "cell_type": "markdown",
   "metadata": {},
   "source": [
    "### Listas"
   ]
  },
  {
   "cell_type": "code",
   "execution_count": 18,
   "metadata": {},
   "outputs": [
    {
     "data": {
      "text/plain": [
       "[7, 6, 'Holi', 5.4, 'cualquier cadena', ['python', 'sabado'], 7]"
      ]
     },
     "execution_count": 18,
     "metadata": {},
     "output_type": "execute_result"
    }
   ],
   "source": [
    "lista_1=[7,6,\"Holi\",5.4,\"cualquier cadena\",[\"python\",\"sabado\"],7]\n",
    "lista_1"
   ]
  },
  {
   "cell_type": "code",
   "execution_count": 19,
   "metadata": {},
   "outputs": [
    {
     "data": {
      "text/plain": [
       "[7, 6, 'Holi', 5.4, 'cualquier cadena', ['python', 'sabado'], 7, 7]"
      ]
     },
     "execution_count": 19,
     "metadata": {},
     "output_type": "execute_result"
    }
   ],
   "source": [
    "# Append → Agrega un elemento al final de la lista\n",
    "lista_1.append(7)\n",
    "lista_1"
   ]
  },
  {
   "cell_type": "code",
   "execution_count": 26,
   "metadata": {},
   "outputs": [
    {
     "data": {
      "text/plain": [
       "'sabado'"
      ]
     },
     "execution_count": 26,
     "metadata": {},
     "output_type": "execute_result"
    }
   ],
   "source": [
    "lista_1[5][1]"
   ]
  },
  {
   "cell_type": "code",
   "execution_count": 20,
   "metadata": {},
   "outputs": [
    {
     "data": {
      "text/plain": [
       "[7, 6, 'Holi', 5.4, 'cualquier cadena', ['python', 'sabado'], 7]"
      ]
     },
     "execution_count": 20,
     "metadata": {},
     "output_type": "execute_result"
    }
   ],
   "source": [
    "# pop() → Quita un elemento al final de la lista\n",
    "lista_1.pop()\n",
    "lista_1"
   ]
  },
  {
   "cell_type": "code",
   "execution_count": 21,
   "metadata": {},
   "outputs": [
    {
     "data": {
      "text/plain": [
       "2"
      ]
     },
     "execution_count": 21,
     "metadata": {},
     "output_type": "execute_result"
    }
   ],
   "source": [
    "# Count() → Cuenta el elemento que se repite\n",
    "lista_1.count(7)"
   ]
  },
  {
   "cell_type": "code",
   "execution_count": 27,
   "metadata": {},
   "outputs": [
    {
     "data": {
      "text/plain": [
       "2"
      ]
     },
     "execution_count": 27,
     "metadata": {},
     "output_type": "execute_result"
    }
   ],
   "source": [
    "# index() → Devuelve el índice donde se encuentra un elemento\n",
    "lista_1.index(\"Holi\")"
   ]
  },
  {
   "cell_type": "code",
   "execution_count": 28,
   "metadata": {},
   "outputs": [
    {
     "data": {
      "text/plain": [
       "[7, 6, 800000, 'Holi', 5.4, 'cualquier cadena', ['python', 'sabado'], 7]"
      ]
     },
     "execution_count": 28,
     "metadata": {},
     "output_type": "execute_result"
    }
   ],
   "source": [
    "# insert(i,x) → i es el índice donde va a inserrtar un elemento y x será el valor que va a ingresar\n",
    "lista_1.insert(2,800000)\n",
    "lista_1"
   ]
  },
  {
   "cell_type": "code",
   "execution_count": 29,
   "metadata": {},
   "outputs": [
    {
     "data": {
      "text/plain": [
       "[7, 6, 'Holi', 5.4, 'cualquier cadena', ['python', 'sabado'], 7]"
      ]
     },
     "execution_count": 29,
     "metadata": {},
     "output_type": "execute_result"
    }
   ],
   "source": [
    "# remove(x) → remueve el elemento x en nuestra lista\n",
    "lista_1.remove(800000)\n",
    "lista_1"
   ]
  },
  {
   "cell_type": "markdown",
   "metadata": {},
   "source": [
    "### Tuplas (no se pueden modificar)"
   ]
  },
  {
   "cell_type": "code",
   "execution_count": 30,
   "metadata": {},
   "outputs": [],
   "source": [
    "tupla=(25,60,\"holi\",(\"tupla\"),[\"python\"],0.2,25)"
   ]
  },
  {
   "cell_type": "code",
   "execution_count": 31,
   "metadata": {},
   "outputs": [
    {
     "data": {
      "text/plain": [
       "2"
      ]
     },
     "execution_count": 31,
     "metadata": {},
     "output_type": "execute_result"
    }
   ],
   "source": [
    "tupla.count(25)"
   ]
  },
  {
   "cell_type": "code",
   "execution_count": 32,
   "metadata": {},
   "outputs": [
    {
     "ename": "AttributeError",
     "evalue": "'tuple' object has no attribute 'pop'",
     "output_type": "error",
     "traceback": [
      "\u001b[1;31m---------------------------------------------------------------------------\u001b[0m",
      "\u001b[1;31mAttributeError\u001b[0m                            Traceback (most recent call last)",
      "\u001b[1;32m<ipython-input-32-84e40c7704d2>\u001b[0m in \u001b[0;36m<module>\u001b[1;34m\u001b[0m\n\u001b[1;32m----> 1\u001b[1;33m \u001b[0mtupla\u001b[0m\u001b[1;33m.\u001b[0m\u001b[0mpop\u001b[0m\u001b[1;33m\u001b[0m\u001b[1;33m\u001b[0m\u001b[0m\n\u001b[0m",
      "\u001b[1;31mAttributeError\u001b[0m: 'tuple' object has no attribute 'pop'"
     ]
    }
   ],
   "source": [
    "tupla.pop"
   ]
  },
  {
   "cell_type": "markdown",
   "metadata": {},
   "source": [
    "### Diccionarios \n",
    " ##### Conjunto de elementos identificados por claro:valor"
   ]
  },
  {
   "cell_type": "code",
   "execution_count": 36,
   "metadata": {},
   "outputs": [
    {
     "data": {
      "text/plain": [
       "{'Nombre': 'Alejandro',\n",
       " 'Edad': 23,\n",
       " 'Ocupación': 'Tallerista',\n",
       " 'Contraseñas': (1234, 'qwerty')}"
      ]
     },
     "execution_count": 36,
     "metadata": {},
     "output_type": "execute_result"
    }
   ],
   "source": [
    "mi_diccionario={\"Clave\":\"Valor\"}\n",
    "diccionario={\"Nombre\":\"Alejandro\",\"Edad\":23,\"Ocupación\":\"Tallerista\",\"Contraseñas\":(1234,\"qwerty\")}\n",
    "diccionario\n",
    "# Clave SIEMPRE entre comillas"
   ]
  },
  {
   "cell_type": "code",
   "execution_count": 37,
   "metadata": {},
   "outputs": [
    {
     "data": {
      "text/plain": [
       "'Alejandro'"
      ]
     },
     "execution_count": 37,
     "metadata": {},
     "output_type": "execute_result"
    }
   ],
   "source": [
    "diccionario[\"Nombre\"]"
   ]
  },
  {
   "cell_type": "code",
   "execution_count": 61,
   "metadata": {},
   "outputs": [
    {
     "name": "stdout",
     "output_type": "stream",
     "text": [
      "Mi nombre es Alberto\n",
      "Mi edad es 25 años\n",
      "Mi ocupación es Estudiante\n",
      "Mi contraseña es abcde\n"
     ]
    }
   ],
   "source": [
    "# Crear un diccionario con mis datos e imprimirlos en un print\n",
    "diccionario_1={\"Nombre\":\"Alberto\",\"Edad\":25,\"Ocupación\":\"Estudiante\",\"Contraseña\":(\"54321\",\"abcde\")}\n",
    "print(\"Mi nombre es \"+diccionario_1[\"Nombre\"])\n",
    "print(\"Mi edad es \"+str(diccionario_1[\"Edad\"])+\" años\")\n",
    "print(\"Mi ocupación es \"+diccionario_1[\"Ocupación\"])\n",
    "print(\"Mi contraseña es \"+diccionario_1[\"Contraseña\"][1])"
   ]
  },
  {
   "cell_type": "code",
   "execution_count": null,
   "metadata": {},
   "outputs": [],
   "source": []
  },
  {
   "cell_type": "code",
   "execution_count": null,
   "metadata": {},
   "outputs": [],
   "source": []
  }
 ],
 "metadata": {
  "kernelspec": {
   "display_name": "Python 3",
   "language": "python",
   "name": "python3"
  },
  "language_info": {
   "codemirror_mode": {
    "name": "ipython",
    "version": 3
   },
   "file_extension": ".py",
   "mimetype": "text/x-python",
   "name": "python",
   "nbconvert_exporter": "python",
   "pygments_lexer": "ipython3",
   "version": "3.7.6"
  }
 },
 "nbformat": 4,
 "nbformat_minor": 4
}
