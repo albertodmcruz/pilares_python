{
 "cells": [
  {
   "cell_type": "markdown",
   "metadata": {},
   "source": [
    "# Ciclo IF\n",
    "\n",
    "Nos permite tomar decisiones para controlar el flujo del programa. Se determina con base en los valores \"True\" ó \"False\".\n"
   ]
  },
  {
   "cell_type": "markdown",
   "metadata": {},
   "source": [
    "### Identación\n",
    "\n",
    "La Identación es el espacio que va a determinar el bloque de un ciclo o una función.\n",
    "\n",
    "Ésta se representa por 4 veces la tecla \"espacio\" ó 1 vez la tecla \"tab\""
   ]
  },
  {
   "cell_type": "markdown",
   "metadata": {},
   "source": [
    "### Condiciones\n",
    "* Igual == Cuando las variables son iguales\n",
    "* Diferentes != Cuando las variables no son iguales\n",
    "* Mayor que > Cuando la variable de la izquierda es mayor que la derecha\n",
    "* Menor que < Cundo la variable de la izquieda esm enor que la derecha\n",
    "* Mayor o igual que >= Cuando la variable de la izquierda es mayor o igual que la derecha\n",
    "* Menor o igual que < Cuando la variable de la izquierda es menor o igual que la derecha"
   ]
  },
  {
   "cell_type": "markdown",
   "metadata": {},
   "source": [
    "### Operadores lógicos\n",
    "* Condición1 and Condición2 → Es válido cuando la Condición1 Y la Condición2 son verdaderas. Las dos se deben de cumplir.\n",
    "* Condición1 or Condición2 → Es válido cuando la Condicion2 O la Condición2 son verdaderas. Cualquiero de las dos se cumple."
   ]
  },
  {
   "cell_type": "code",
   "execution_count": 3,
   "metadata": {},
   "outputs": [
    {
     "data": {
      "text/plain": [
       "False"
      ]
     },
     "execution_count": 3,
     "metadata": {},
     "output_type": "execute_result"
    }
   ],
   "source": [
    "a=7\n",
    "b=9\n",
    "a==b"
   ]
  },
  {
   "cell_type": "code",
   "execution_count": 2,
   "metadata": {},
   "outputs": [
    {
     "name": "stdout",
     "output_type": "stream",
     "text": [
      "La variable es True!!!\n"
     ]
    }
   ],
   "source": [
    "variable=True\n",
    "if variable==True:\n",
    "    print(\"La variable es True!!!\")\n",
    "else:\n",
    "    print(\"La variable es False!!!\")"
   ]
  },
  {
   "cell_type": "code",
   "execution_count": 19,
   "metadata": {},
   "outputs": [
    {
     "name": "stdout",
     "output_type": "stream",
     "text": [
      "Define tu altura: 99\n",
      "Aviso. Ingresa una altura correcta\n"
     ]
    }
   ],
   "source": [
    "# Programa que termina si tu altura es la adecuada para entrar a un juego. La altura debe ser mayor o igual que 120 pero menor que 230\n",
    "altura=int(input(\"Define tu altura: \"))\n",
    "if altura>=120 and altura<=230:\n",
    "    print(\"Puedes acceder al juego!!\")\n",
    "elif altura>=100 and altura<120:\n",
    "    print(\"No puedes acceder al juego :c\")\n",
    "else:\n",
    "    print(\"Aviso. Ingresa una altura correcta\")"
   ]
  },
  {
   "cell_type": "code",
   "execution_count": null,
   "metadata": {},
   "outputs": [],
   "source": []
  }
 ],
 "metadata": {
  "kernelspec": {
   "display_name": "Python 3",
   "language": "python",
   "name": "python3"
  },
  "language_info": {
   "codemirror_mode": {
    "name": "ipython",
    "version": 3
   },
   "file_extension": ".py",
   "mimetype": "text/x-python",
   "name": "python",
   "nbconvert_exporter": "python",
   "pygments_lexer": "ipython3",
   "version": "3.7.6"
  }
 },
 "nbformat": 4,
 "nbformat_minor": 4
}
