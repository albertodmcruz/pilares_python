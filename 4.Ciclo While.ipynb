{
 "cells": [
  {
   "cell_type": "markdown",
   "metadata": {},
   "source": [
    "# Ciclo \"While\"\n",
    "\n",
    "Repite un bloque de código MIENTRAS se cumpla una condición"
   ]
  },
  {
   "cell_type": "code",
   "execution_count": 1,
   "metadata": {},
   "outputs": [
    {
     "name": "stdout",
     "output_type": "stream",
     "text": [
      "0\n",
      "1\n",
      "2\n",
      "3\n",
      "4\n",
      "5\n",
      "6\n",
      "7\n",
      "8\n",
      "9\n"
     ]
    }
   ],
   "source": [
    "detener=0\n",
    "while detener<10:\n",
    "    print(detener)\n",
    "    detener=detener+1"
   ]
  },
  {
   "cell_type": "code",
   "execution_count": 7,
   "metadata": {},
   "outputs": [
    {
     "name": "stdout",
     "output_type": "stream",
     "text": [
      "Ingrese su edad: -5\n",
      "Ingrese una edad correcta\n",
      "Vuelva a ingresar su edad: 5\n",
      "Su edad es  5\n"
     ]
    }
   ],
   "source": [
    "edad=int(input('Ingrese su edad: '))\n",
    "while edad>100 or edad<0:\n",
    "    print('Ingrese una edad correcta')\n",
    "    edad=int(input('Vuelva a ingresar su edad: '))\n",
    "print('Su edad es ',str(edad))"
   ]
  },
  {
   "cell_type": "code",
   "execution_count": 12,
   "metadata": {},
   "outputs": [
    {
     "name": "stdout",
     "output_type": "stream",
     "text": [
      "La suma es:  20\n"
     ]
    }
   ],
   "source": [
    "detener=0\n",
    "suma=0\n",
    "while detener<10:\n",
    "    suma=suma+2\n",
    "    detener=detener+1\n",
    "print('La suma es: ',str(suma))"
   ]
  },
  {
   "cell_type": "code",
   "execution_count": null,
   "metadata": {},
   "outputs": [],
   "source": []
  }
 ],
 "metadata": {
  "kernelspec": {
   "display_name": "Python 3",
   "language": "python",
   "name": "python3"
  },
  "language_info": {
   "codemirror_mode": {
    "name": "ipython",
    "version": 3
   },
   "file_extension": ".py",
   "mimetype": "text/x-python",
   "name": "python",
   "nbconvert_exporter": "python",
   "pygments_lexer": "ipython3",
   "version": "3.7.6"
  }
 },
 "nbformat": 4,
 "nbformat_minor": 4
}
