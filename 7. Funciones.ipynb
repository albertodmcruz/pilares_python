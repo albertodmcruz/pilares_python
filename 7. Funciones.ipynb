{
 "cells": [
  {
   "cell_type": "markdown",
   "metadata": {},
   "source": [
    "# Funciones"
   ]
  },
  {
   "cell_type": "code",
   "execution_count": 5,
   "metadata": {},
   "outputs": [
    {
     "name": "stdout",
     "output_type": "stream",
     "text": [
      "Suma:  14\n"
     ]
    }
   ],
   "source": [
    "# f(x)=x+1\n",
    "#f(20)=20+1\n",
    "# Puede o no tener argumento → x\n",
    "def funcion (numerote): # Con esto se guarda la funcion\n",
    "    # Numerote → Es como un alias del argumento a tratar\n",
    "    #Solamente existe en la función\n",
    "    suma=numerote+4\n",
    "    print('Suma: ',str(suma))\n",
    "\n",
    "funcion(10)"
   ]
  },
  {
   "cell_type": "code",
   "execution_count": 7,
   "metadata": {},
   "outputs": [
    {
     "name": "stdout",
     "output_type": "stream",
     "text": [
      "Resultado es:  32\n"
     ]
    }
   ],
   "source": [
    "# f(x)=x^2\n",
    "def potencia (x,pot):\n",
    "    resultado=x**pot\n",
    "    print('Resultado es: ',str(resultado))\n",
    "    \n",
    "potencia(2,5)"
   ]
  },
  {
   "cell_type": "code",
   "execution_count": 11,
   "metadata": {},
   "outputs": [
    {
     "name": "stdout",
     "output_type": "stream",
     "text": [
      "Resultado:  4\n"
     ]
    }
   ],
   "source": [
    "def potencia2 (x,pot):\n",
    "    resultado=x**pot\n",
    "    #regresar el valor \n",
    "    return resultado  #Regresa el resultado\n",
    "variable=potencia2(2,2)\n",
    "print('Resultado: ',variable)"
   ]
  },
  {
   "cell_type": "code",
   "execution_count": null,
   "metadata": {},
   "outputs": [
    {
     "name": "stdout",
     "output_type": "stream",
     "text": [
      "Bienvenid@ a la calculadora :D \n",
      " Ingrese una opción\n",
      "Opción 1: Sumar\n",
      "Opción 2: Restar\n",
      "Opción 3: Multiplicar\n",
      "Opción 4: Dividir\n",
      "Opción 5: Salir\n",
      "Elija una opción2\n",
      "Ingrese el número 1: 23\n",
      "Ingrese el número 2: 25\n",
      "Realizando resta...\n",
      "El resultado es:  -2\n",
      "Bienvenid@ a la calculadora :D \n",
      " Ingrese una opción\n",
      "Opción 1: Sumar\n",
      "Opción 2: Restar\n",
      "Opción 3: Multiplicar\n",
      "Opción 4: Dividir\n",
      "Opción 5: Salir\n"
     ]
    }
   ],
   "source": [
    "# Generar 4 funciones: suma, resta, multiplicacion y división\n",
    "# Cada una recibe 2 argumentos que serán operados\n",
    "# Regresar el resultado de la función con return\n",
    "\n",
    "def suma (a,b):\n",
    "    resultado1=a+b\n",
    "    return resultado1\n",
    "def resta (a,b):\n",
    "    resultado2=a-b\n",
    "    return resultado2\n",
    "def multiplicación (a,b):\n",
    "    resultado3=a*b\n",
    "    return resultado3\n",
    "def división (b,a):\n",
    "    resultado4=a/b\n",
    "    return resultado4\n",
    "\n",
    "while True:\n",
    "    print('Bienvenid@ a la calculadora :D \\n Ingrese una opción')\n",
    "    print('Opción 1: Sumar')\n",
    "    print('Opción 2: Restar')\n",
    "    print('Opción 3: Multiplicar')\n",
    "    print('Opción 4: Dividir')\n",
    "    print('Opción 5: Salir')\n",
    "    opción=int(input('Elija una opción'))\n",
    "    if opción==1:\n",
    "        # sumar\n",
    "        numero1=int(input('Ingrese el número 1: '))\n",
    "        numero2=int(input('Ingrese el número 2: '))\n",
    "        print('Realizando suma...')\n",
    "        print('El resultado es: ',str(suma(numero1,numero2)))\n",
    "    elif opción==2:\n",
    "        # restar\n",
    "        numero1=int(input('Ingrese el número 1: '))\n",
    "        numero2=int(input('Ingrese el número 2: '))\n",
    "        print('Realizando resta...')\n",
    "        print('El resultado es: ',str(resta(numero1,numero2)))\n",
    "    elif opción==3:\n",
    "        # multiplicar\n",
    "        numero1=int(input('Ingrese el número 1: '))\n",
    "        numero2=int(input('Ingrese el número 2: '))\n",
    "        print('Realizando multiplicación...')\n",
    "        print('El resultado es: ',str(multiplicación(numero1,numero2)))\n",
    "    elif opción==4:\n",
    "        # dividir\n",
    "        numero1=int(input('Ingrese el número 1: '))\n",
    "        numero2=int(input('Ingrese el número 2: '))\n",
    "        print('Realizando división...')\n",
    "        print('El resultado es: ',str(división(numero1,numero2)))\n",
    "    elif opción==5:\n",
    "        print('Gracias por usar nuestra calculadora :D')\n",
    "        break #Forzar a que termine el while"
   ]
  },
  {
   "cell_type": "code",
   "execution_count": null,
   "metadata": {},
   "outputs": [],
   "source": []
  },
  {
   "cell_type": "code",
   "execution_count": null,
   "metadata": {},
   "outputs": [],
   "source": []
  },
  {
   "cell_type": "code",
   "execution_count": null,
   "metadata": {},
   "outputs": [],
   "source": []
  },
  {
   "cell_type": "code",
   "execution_count": null,
   "metadata": {},
   "outputs": [],
   "source": []
  }
 ],
 "metadata": {
  "kernelspec": {
   "display_name": "Python 3",
   "language": "python",
   "name": "python3"
  },
  "language_info": {
   "codemirror_mode": {
    "name": "ipython",
    "version": 3
   },
   "file_extension": ".py",
   "mimetype": "text/x-python",
   "name": "python",
   "nbconvert_exporter": "python",
   "pygments_lexer": "ipython3",
   "version": "3.7.6"
  }
 },
 "nbformat": 4,
 "nbformat_minor": 4
}
