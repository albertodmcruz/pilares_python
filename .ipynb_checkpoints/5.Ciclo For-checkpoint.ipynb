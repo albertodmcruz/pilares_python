{
 "cells": [
  {
   "cell_type": "markdown",
   "metadata": {},
   "source": [
    "# Ciclo \"For\"\n",
    "\n",
    "Repetirá un bloque de código de 1 hasta N cantidad de veces"
   ]
  },
  {
   "cell_type": "code",
   "execution_count": 1,
   "metadata": {},
   "outputs": [
    {
     "name": "stdout",
     "output_type": "stream",
     "text": [
      "0\n",
      "1\n",
      "2\n",
      "3\n",
      "4\n",
      "5\n",
      "6\n",
      "7\n",
      "8\n",
      "9\n"
     ]
    }
   ],
   "source": [
    "# Nos apoyamos de una función llamada \"range(inicio,fin,de cuánto en cuánto)\"\n",
    "for i in range(0,10):\n",
    "    print(i)"
   ]
  },
  {
   "cell_type": "code",
   "execution_count": 2,
   "metadata": {},
   "outputs": [
    {
     "name": "stdout",
     "output_type": "stream",
     "text": [
      "python\n",
      "10\n",
      "hola\n",
      "2.2\n"
     ]
    }
   ],
   "source": [
    "lista=['python',10,'hola',2.2]\n",
    "for i in lista:\n",
    "    print(i)"
   ]
  },
  {
   "cell_type": "code",
   "execution_count": 8,
   "metadata": {},
   "outputs": [
    {
     "name": "stdout",
     "output_type": "stream",
     "text": [
      "El resultado es: 8.833333333333334\n"
     ]
    }
   ],
   "source": [
    "promedio=[10,10,9,10,8,6]\n",
    "suma=0\n",
    "for i in promedio:\n",
    "    suma=suma+i\n",
    "n=len(promedio)\n",
    "resultado=suma/n\n",
    "print('El resultado es: '+str(resultado))"
   ]
  },
  {
   "cell_type": "code",
   "execution_count": null,
   "metadata": {},
   "outputs": [],
   "source": [
    "# Tarea: Hacer lo mismo pero pidiendo las calificaciones de los alumnos manualmente\n",
    "# Tip: Primero pidan la cantida de calificaciones y guardenla en una varibale\n",
    "# Tip2: Para agregar elementos a una lista utilizamos append()"
   ]
  }
 ],
 "metadata": {
  "kernelspec": {
   "display_name": "Python 3",
   "language": "python",
   "name": "python3"
  },
  "language_info": {
   "codemirror_mode": {
    "name": "ipython",
    "version": 3
   },
   "file_extension": ".py",
   "mimetype": "text/x-python",
   "name": "python",
   "nbconvert_exporter": "python",
   "pygments_lexer": "ipython3",
   "version": "3.7.6"
  }
 },
 "nbformat": 4,
 "nbformat_minor": 4
}
