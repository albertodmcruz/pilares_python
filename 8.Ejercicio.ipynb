{
 "cells": [
  {
   "cell_type": "code",
   "execution_count": 1,
   "metadata": {},
   "outputs": [
    {
     "name": "stdout",
     "output_type": "stream",
     "text": [
      "Coloque el monto total de su compra: 1500\n",
      "\n",
      "Total a pagar: $ 1200.0 pesos\n",
      "Tu descuento es de: 300.0  pesos\n",
      "\n"
     ]
    }
   ],
   "source": [
    "#Generar un programa que realiza descuentos de acuerdo al total de la compra\n",
    "#si la compra fue menor a $500 no aplica descuento\n",
    "#si la compra fue mayor $500 hay descuento del 10%\n",
    "#si la compra fue mayor a $1000 hay descuento del 15%\n",
    "#si la compra fue mayor a $1500 hay descuento del 20%\n",
    "\n",
    "Total=float((input('Coloque el monto total de su compra: ')))\n",
    "\n",
    "if Total<500:\n",
    "    print('\\n--- Tu compra no aplica descuento ---\\n')\n",
    "elif Total>=500 and Total<1000:\n",
    "    descuento1=Total*0.1\n",
    "    print('\\nTotal a pagar: ',Total*0.9,'pesos')\n",
    "    print('Tu descuento es de:',descuento1,' pesos\\n')\n",
    "elif Total>=1000 and Total<1500:\n",
    "    descuento2=Total*0.15\n",
    "    print('\\nTotal a pagar: ',Total*0.85,'pesos')\n",
    "    print('Tu descuento es de:',descuento2,' pesos\\n')\n",
    "elif Total>=1500:\n",
    "    descuento3=Total*0.2\n",
    "    print('\\nTotal a pagar: $',Total*0.8,'pesos')\n",
    "    print('Tu descuento es de:',descuento3,' pesos\\n')"
   ]
  },
  {
   "cell_type": "code",
   "execution_count": 3,
   "metadata": {},
   "outputs": [
    {
     "name": "stdout",
     "output_type": "stream",
     "text": [
      "Coloque el monto total de su compra: 20\n",
      "\n",
      "--- Tu compra no aplica descuento ---\n",
      "\n"
     ]
    }
   ],
   "source": [
    "def descuento(Total):\n",
    "    if Total<500:\n",
    "        print('\\n--- Tu compra no aplica descuento ---\\n')\n",
    "    elif Total>=500 and Total<1000:\n",
    "        descuento1=Total*0.1\n",
    "        print('\\nTotal a pagar: ',Total*0.9,'pesos')\n",
    "        print('Tu descuento es de:',descuento1,' pesos\\n')\n",
    "    elif Total>=1000 and Total<1500:\n",
    "        descuento2=Total*0.15\n",
    "        print('\\nTotal a pagar: ',Total*0.85,'pesos')\n",
    "        print('Tu descuento es de:',descuento2,' pesos\\n')\n",
    "    elif Total>=1500:\n",
    "        descuento3=Total*0.2\n",
    "        print('\\nTotal a pagar: $',Total*0.8,'pesos')\n",
    "        print('Tu descuento es de:',descuento3,' pesos\\n')\n",
    "\n",
    "total_compra=float((input('Coloque el monto total de su compra: ')))\n",
    "descuento(total_compra)"
   ]
  }
 ],
 "metadata": {
  "kernelspec": {
   "display_name": "Python 3",
   "language": "python",
   "name": "python3"
  },
  "language_info": {
   "codemirror_mode": {
    "name": "ipython",
    "version": 3
   },
   "file_extension": ".py",
   "mimetype": "text/x-python",
   "name": "python",
   "nbconvert_exporter": "python",
   "pygments_lexer": "ipython3",
   "version": "3.7.6"
  }
 },
 "nbformat": 4,
 "nbformat_minor": 4
}
