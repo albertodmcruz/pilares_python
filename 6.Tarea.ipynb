{
 "cells": [
  {
   "cell_type": "markdown",
   "metadata": {},
   "source": [
    "## Tarea\n",
    "• Tarea: Hacer lo mismo pero pidiendo las calificaciones de los alumnos manualmente\n",
    "\n",
    "• Tip: Primero pidan la cantida de calificaciones y guardenla en una varibale\n",
    "\n",
    "• Tip2: Para agregar elementos a una lista utilizamos append()"
   ]
  },
  {
   "cell_type": "code",
   "execution_count": null,
   "metadata": {},
   "outputs": [],
   "source": [
    "Qcalificaciones=int(input('Número de calificaciones: '))\n",
    "calificaciones=[]\n",
    "    \n",
    "for i in range(Qcalificaciones):\n",
    "    cal=int(input('Calificacion: '+str(i+1)+': '))\n",
    "    while cal>10 or cal<0:\n",
    "        print('Ingrese una calificación igual o menor a 10 e igual o mayor a 0')\n",
    "        cal=int(input('Calificacion: '+str(i+1)+': '))\n",
    "    calificaciones.append(cal)\n",
    "\n",
    "suma=0\n",
    "for i in calificaciones:\n",
    "    suma=suma+i\n",
    "\n",
    "resultado=suma/Qcalificaciones\n",
    "print('\\nEl promedio de las',str(Qcalificaciones),'calificaciones es: ',str(resultado))\n"
   ]
  },
  {
   "cell_type": "code",
   "execution_count": null,
   "metadata": {},
   "outputs": [],
   "source": []
  }
 ],
 "metadata": {
  "kernelspec": {
   "display_name": "Python 3",
   "language": "python",
   "name": "python3"
  },
  "language_info": {
   "codemirror_mode": {
    "name": "ipython",
    "version": 3
   },
   "file_extension": ".py",
   "mimetype": "text/x-python",
   "name": "python",
   "nbconvert_exporter": "python",
   "pygments_lexer": "ipython3",
   "version": "3.7.6"
  }
 },
 "nbformat": 4,
 "nbformat_minor": 4
}
